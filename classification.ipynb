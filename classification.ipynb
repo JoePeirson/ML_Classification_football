{
 "cells": [
  {
   "cell_type": "markdown",
   "metadata": {},
   "source": [
    "# Best Models \n",
    "Data used - full wins and full losses, skews fixed\n",
    "- 30000 rows, first 11 columns, takes 9 minutes to run\n",
    "    - Best: GradientBoostingClassifier(n_trees=100),Prec=0.556,Wins=503\n",
    "- 400k rows, first 11 columns, took 2 hours to run\n",
    "    - Best: GradientBoostingClassifier(n_trees=400),Prec=0.555,Wins=6733"
   ]
  },
  {
   "cell_type": "code",
   "execution_count": 1,
   "metadata": {},
   "outputs": [],
   "source": [
    "import seaborn as sns, pandas as pd, numpy as np\n",
    "import matplotlib.pyplot as plt, os, sys, seaborn as sns\n",
    "import warnings\n",
    "warnings.filterwarnings(\"ignore\")\n",
    "import time\n",
    "from datetime import datetime\n",
    "pd.set_option('display.max_rows', 100)\n",
    "pd.set_option('display.max_columns', 100)\n",
    "import pprint\n",
    "import pickle\n",
    "from scipy import stats"
   ]
  },
  {
   "cell_type": "code",
   "execution_count": 2,
   "metadata": {},
   "outputs": [],
   "source": [
    "def cross_val_summary(model, X_train, y_train):\n",
    "    cross_val = cross_val_score(model, X_train, y_train, cv=5,scoring='accuracy')\n",
    "    print('cross Validation score:',round(cross_val.mean(),3),[round(num, 3) for num in cross_val])\n",
    "    return None\n",
    "\n",
    "def performance_scores(model,y_test, y_pred):\n",
    "    cross_val_summary(model, X_train, y_train)\n",
    "    prec_score = round(precision_score(y_test, y_pred), 3)\n",
    "    acc_score = round(accuracy_score(y_test, y_pred), 3)\n",
    "#     matrix = confusion_matrix(y_test, y_pred)\n",
    "#     sns.set_palette(sns.color_palette())\n",
    "#     _, ax = plt.subplots(figsize=(3,3))\n",
    "#     ax = sns.heatmap(matrix, annot=True, fmt='d', annot_kws={\"size\": 20, \"weight\": \"bold\"})  \n",
    "#     labels = ['Over', 'Under']\n",
    "#     ax.set_xticklabels(labels, fontsize=10);\n",
    "#     ax.set_yticklabels(labels, fontsize=10);\n",
    "#     ax.set_ylabel('Target', fontsize=10);\n",
    "#     ax.set_xlabel('Prediction', fontsize=10)\n",
    "    print('Prec:',prec_score,'Acc:',acc_score)\n",
    "    model_results.append(pd.Series({\n",
    "                               'Model': type(model).__name__, \n",
    "                               'Model_Details': model, \n",
    "                               'Prec': prec_score,\n",
    "                               'Acc': acc_score}))\n",
    "    return None"
   ]
  },
  {
   "cell_type": "code",
   "execution_count": 3,
   "metadata": {},
   "outputs": [],
   "source": [
    "start = datetime.now()\n",
    "model_results = list()"
   ]
  },
  {
   "cell_type": "code",
   "execution_count": 4,
   "metadata": {
    "scrolled": true
   },
   "outputs": [
    {
     "name": "stdout",
     "output_type": "stream",
     "text": [
      "(75841, 16)\n"
     ]
    },
    {
     "data": {
      "text/html": [
       "<div>\n",
       "<style scoped>\n",
       "    .dataframe tbody tr th:only-of-type {\n",
       "        vertical-align: middle;\n",
       "    }\n",
       "\n",
       "    .dataframe tbody tr th {\n",
       "        vertical-align: top;\n",
       "    }\n",
       "\n",
       "    .dataframe thead th {\n",
       "        text-align: right;\n",
       "    }\n",
       "</style>\n",
       "<table border=\"1\" class=\"dataframe\">\n",
       "  <thead>\n",
       "    <tr style=\"text-align: right;\">\n",
       "      <th></th>\n",
       "      <th>match_id</th>\n",
       "      <th>match_start</th>\n",
       "      <th>league</th>\n",
       "      <th>home</th>\n",
       "      <th>away</th>\n",
       "      <th>final_goals</th>\n",
       "      <th>minute</th>\n",
       "      <th>line</th>\n",
       "      <th>price</th>\n",
       "      <th>current_goals</th>\n",
       "      <th>minute_bin</th>\n",
       "      <th>profit</th>\n",
       "      <th>shots</th>\n",
       "      <th>eff_line</th>\n",
       "      <th>da_perc</th>\n",
       "      <th>target</th>\n",
       "    </tr>\n",
       "  </thead>\n",
       "  <tbody>\n",
       "    <tr>\n",
       "      <th>0</th>\n",
       "      <td>4243211</td>\n",
       "      <td>2021-10-28 17:45:00</td>\n",
       "      <td>denmark cup</td>\n",
       "      <td>midtjylland</td>\n",
       "      <td>aab</td>\n",
       "      <td>4.0</td>\n",
       "      <td>6</td>\n",
       "      <td>2.5</td>\n",
       "      <td>1.925</td>\n",
       "      <td>0.0</td>\n",
       "      <td>10</td>\n",
       "      <td>-1.0</td>\n",
       "      <td>0.0</td>\n",
       "      <td>2.5</td>\n",
       "      <td>0.73</td>\n",
       "      <td>0</td>\n",
       "    </tr>\n",
       "  </tbody>\n",
       "</table>\n",
       "</div>"
      ],
      "text/plain": [
       "   match_id          match_start       league         home away  final_goals  \\\n",
       "0   4243211  2021-10-28 17:45:00  denmark cup  midtjylland  aab          4.0   \n",
       "\n",
       "   minute  line  price  current_goals  minute_bin  profit  shots  eff_line  \\\n",
       "0       6   2.5  1.925            0.0          10    -1.0    0.0       2.5   \n",
       "\n",
       "   da_perc  target  \n",
       "0     0.73       0  "
      ]
     },
     "execution_count": 4,
     "metadata": {},
     "output_type": "execute_result"
    }
   ],
   "source": [
    "df_all_data = pd.read_csv('data1').iloc[:,1:]\n",
    "print(df_all_data.shape)\n",
    "df_all_data.head(1)"
   ]
  },
  {
   "cell_type": "code",
   "execution_count": 5,
   "metadata": {},
   "outputs": [],
   "source": [
    "df_all_data['minute_bin'] = df_all_data['minute_bin'].apply(lambda x: str(x))"
   ]
  },
  {
   "cell_type": "code",
   "execution_count": 6,
   "metadata": {},
   "outputs": [
    {
     "data": {
      "text/html": [
       "<div>\n",
       "<style scoped>\n",
       "    .dataframe tbody tr th:only-of-type {\n",
       "        vertical-align: middle;\n",
       "    }\n",
       "\n",
       "    .dataframe tbody tr th {\n",
       "        vertical-align: top;\n",
       "    }\n",
       "\n",
       "    .dataframe thead th {\n",
       "        text-align: right;\n",
       "    }\n",
       "</style>\n",
       "<table border=\"1\" class=\"dataframe\">\n",
       "  <thead>\n",
       "    <tr style=\"text-align: right;\">\n",
       "      <th></th>\n",
       "      <th>current_goals</th>\n",
       "      <th>shots</th>\n",
       "      <th>da_perc</th>\n",
       "      <th>eff_line</th>\n",
       "      <th>minute_bin</th>\n",
       "      <th>target</th>\n",
       "    </tr>\n",
       "  </thead>\n",
       "  <tbody>\n",
       "    <tr>\n",
       "      <th>0</th>\n",
       "      <td>0.0</td>\n",
       "      <td>0.0</td>\n",
       "      <td>0.73</td>\n",
       "      <td>2.5</td>\n",
       "      <td>10</td>\n",
       "      <td>0</td>\n",
       "    </tr>\n",
       "  </tbody>\n",
       "</table>\n",
       "</div>"
      ],
      "text/plain": [
       "   current_goals  shots  da_perc  eff_line minute_bin  target\n",
       "0            0.0    0.0     0.73       2.5         10       0"
      ]
     },
     "execution_count": 6,
     "metadata": {},
     "output_type": "execute_result"
    }
   ],
   "source": [
    "df = df_all_data[['current_goals',\n",
    "       'shots', 'da_perc', 'eff_line', 'minute_bin','target']]\n",
    "df.head(1)"
   ]
  },
  {
   "cell_type": "code",
   "execution_count": 7,
   "metadata": {},
   "outputs": [],
   "source": [
    "df = pd.get_dummies(df)"
   ]
  },
  {
   "cell_type": "code",
   "execution_count": 8,
   "metadata": {},
   "outputs": [
    {
     "data": {
      "text/html": [
       "<div>\n",
       "<style scoped>\n",
       "    .dataframe tbody tr th:only-of-type {\n",
       "        vertical-align: middle;\n",
       "    }\n",
       "\n",
       "    .dataframe tbody tr th {\n",
       "        vertical-align: top;\n",
       "    }\n",
       "\n",
       "    .dataframe thead th {\n",
       "        text-align: right;\n",
       "    }\n",
       "</style>\n",
       "<table border=\"1\" class=\"dataframe\">\n",
       "  <thead>\n",
       "    <tr style=\"text-align: right;\">\n",
       "      <th></th>\n",
       "      <th>current_goals</th>\n",
       "      <th>shots</th>\n",
       "      <th>da_perc</th>\n",
       "      <th>eff_line</th>\n",
       "      <th>target</th>\n",
       "      <th>minute_bin_10</th>\n",
       "      <th>minute_bin_20</th>\n",
       "      <th>minute_bin_30</th>\n",
       "      <th>minute_bin_40</th>\n",
       "      <th>minute_bin_50</th>\n",
       "      <th>minute_bin_60</th>\n",
       "      <th>minute_bin_70</th>\n",
       "      <th>minute_bin_80</th>\n",
       "    </tr>\n",
       "  </thead>\n",
       "  <tbody>\n",
       "    <tr>\n",
       "      <th>0</th>\n",
       "      <td>0.0</td>\n",
       "      <td>0.0</td>\n",
       "      <td>0.73</td>\n",
       "      <td>2.5</td>\n",
       "      <td>0</td>\n",
       "      <td>1</td>\n",
       "      <td>0</td>\n",
       "      <td>0</td>\n",
       "      <td>0</td>\n",
       "      <td>0</td>\n",
       "      <td>0</td>\n",
       "      <td>0</td>\n",
       "      <td>0</td>\n",
       "    </tr>\n",
       "    <tr>\n",
       "      <th>1</th>\n",
       "      <td>0.0</td>\n",
       "      <td>1.0</td>\n",
       "      <td>0.60</td>\n",
       "      <td>2.5</td>\n",
       "      <td>1</td>\n",
       "      <td>1</td>\n",
       "      <td>0</td>\n",
       "      <td>0</td>\n",
       "      <td>0</td>\n",
       "      <td>0</td>\n",
       "      <td>0</td>\n",
       "      <td>0</td>\n",
       "      <td>0</td>\n",
       "    </tr>\n",
       "    <tr>\n",
       "      <th>2</th>\n",
       "      <td>0.0</td>\n",
       "      <td>0.0</td>\n",
       "      <td>0.62</td>\n",
       "      <td>2.5</td>\n",
       "      <td>1</td>\n",
       "      <td>1</td>\n",
       "      <td>0</td>\n",
       "      <td>0</td>\n",
       "      <td>0</td>\n",
       "      <td>0</td>\n",
       "      <td>0</td>\n",
       "      <td>0</td>\n",
       "      <td>0</td>\n",
       "    </tr>\n",
       "    <tr>\n",
       "      <th>3</th>\n",
       "      <td>0.0</td>\n",
       "      <td>0.0</td>\n",
       "      <td>0.80</td>\n",
       "      <td>2.5</td>\n",
       "      <td>1</td>\n",
       "      <td>1</td>\n",
       "      <td>0</td>\n",
       "      <td>0</td>\n",
       "      <td>0</td>\n",
       "      <td>0</td>\n",
       "      <td>0</td>\n",
       "      <td>0</td>\n",
       "      <td>0</td>\n",
       "    </tr>\n",
       "    <tr>\n",
       "      <th>4</th>\n",
       "      <td>0.0</td>\n",
       "      <td>1.0</td>\n",
       "      <td>0.75</td>\n",
       "      <td>2.5</td>\n",
       "      <td>1</td>\n",
       "      <td>1</td>\n",
       "      <td>0</td>\n",
       "      <td>0</td>\n",
       "      <td>0</td>\n",
       "      <td>0</td>\n",
       "      <td>0</td>\n",
       "      <td>0</td>\n",
       "      <td>0</td>\n",
       "    </tr>\n",
       "  </tbody>\n",
       "</table>\n",
       "</div>"
      ],
      "text/plain": [
       "   current_goals  shots  da_perc  eff_line  target  minute_bin_10  \\\n",
       "0            0.0    0.0     0.73       2.5       0              1   \n",
       "1            0.0    1.0     0.60       2.5       1              1   \n",
       "2            0.0    0.0     0.62       2.5       1              1   \n",
       "3            0.0    0.0     0.80       2.5       1              1   \n",
       "4            0.0    1.0     0.75       2.5       1              1   \n",
       "\n",
       "   minute_bin_20  minute_bin_30  minute_bin_40  minute_bin_50  minute_bin_60  \\\n",
       "0              0              0              0              0              0   \n",
       "1              0              0              0              0              0   \n",
       "2              0              0              0              0              0   \n",
       "3              0              0              0              0              0   \n",
       "4              0              0              0              0              0   \n",
       "\n",
       "   minute_bin_70  minute_bin_80  \n",
       "0              0              0  \n",
       "1              0              0  \n",
       "2              0              0  \n",
       "3              0              0  \n",
       "4              0              0  "
      ]
     },
     "execution_count": 8,
     "metadata": {},
     "output_type": "execute_result"
    }
   ],
   "source": [
    "df.head()"
   ]
  },
  {
   "cell_type": "code",
   "execution_count": 9,
   "metadata": {},
   "outputs": [],
   "source": [
    "mask = df.dtypes == np.float\n",
    "float_cols = df.columns[mask]\n",
    "\n",
    "skew_limit = 0.75 # define a limit above which we will transform\n",
    "skew_vals = df[float_cols].skew()"
   ]
  },
  {
   "cell_type": "code",
   "execution_count": 10,
   "metadata": {
    "scrolled": true
   },
   "outputs": [
    {
     "data": {
      "text/html": [
       "<div>\n",
       "<style scoped>\n",
       "    .dataframe tbody tr th:only-of-type {\n",
       "        vertical-align: middle;\n",
       "    }\n",
       "\n",
       "    .dataframe tbody tr th {\n",
       "        vertical-align: top;\n",
       "    }\n",
       "\n",
       "    .dataframe thead th {\n",
       "        text-align: right;\n",
       "    }\n",
       "</style>\n",
       "<table border=\"1\" class=\"dataframe\">\n",
       "  <thead>\n",
       "    <tr style=\"text-align: right;\">\n",
       "      <th></th>\n",
       "      <th>Skew</th>\n",
       "      <th>log</th>\n",
       "      <th>sq_rt</th>\n",
       "    </tr>\n",
       "  </thead>\n",
       "  <tbody>\n",
       "    <tr>\n",
       "      <th>da_perc</th>\n",
       "      <td>1.130335</td>\n",
       "      <td>0.960638</td>\n",
       "      <td>0.925872</td>\n",
       "    </tr>\n",
       "  </tbody>\n",
       "</table>\n",
       "</div>"
      ],
      "text/plain": [
       "             Skew       log     sq_rt\n",
       "da_perc  1.130335  0.960638  0.925872"
      ]
     },
     "execution_count": 10,
     "metadata": {},
     "output_type": "execute_result"
    }
   ],
   "source": [
    "skew_cols = (skew_vals\n",
    "             .sort_values(ascending=False)\n",
    "             .to_frame()\n",
    "             .rename(columns={0:'Skew'})\n",
    "             .query('abs(Skew) > {}'.format(skew_limit)))\n",
    "log,sq_rt,box_cox = [],[],[]\n",
    "for x in skew_cols.index:\n",
    "    log.append(np.log1p(df[x]).skew())\n",
    "    sq_rt.append(np.sqrt(df[x]).skew())\n",
    "\n",
    "skew_cols['log'] = log\n",
    "skew_cols['sq_rt'] = sq_rt\n",
    "\n",
    "skew_cols"
   ]
  },
  {
   "cell_type": "code",
   "execution_count": 11,
   "metadata": {},
   "outputs": [],
   "source": [
    "for col in skew_cols.index.values:\n",
    "    df[col] = df[col].apply(np.sqrt)"
   ]
  },
  {
   "cell_type": "code",
   "execution_count": 12,
   "metadata": {},
   "outputs": [
    {
     "data": {
      "text/plain": [
       "['da_perc']"
      ]
     },
     "execution_count": 12,
     "metadata": {},
     "output_type": "execute_result"
    }
   ],
   "source": [
    "list(skew_cols.index)"
   ]
  },
  {
   "cell_type": "code",
   "execution_count": 13,
   "metadata": {},
   "outputs": [],
   "source": [
    "from sklearn.model_selection import StratifiedShuffleSplit\n",
    "\n",
    "target_variable = 'target'\n",
    "feature_cols = df.drop([target_variable],1).columns\n",
    "\n",
    "# Get the split indexes\n",
    "strat_shuf_split = StratifiedShuffleSplit(n_splits=1, \n",
    "                                          test_size=0.3, \n",
    "                                          random_state=42)\n",
    "\n",
    "train_idx, test_idx = next(strat_shuf_split.split\n",
    "                           (df[feature_cols], df[target_variable]))\n",
    "\n",
    "# Create the dataframes\n",
    "X_train = df.loc[train_idx, feature_cols]\n",
    "y_train = df.loc[train_idx, target_variable]\n",
    "\n",
    "X_test  = df.loc[test_idx, feature_cols]\n",
    "y_test  = df.loc[test_idx, target_variable]"
   ]
  },
  {
   "cell_type": "code",
   "execution_count": 14,
   "metadata": {},
   "outputs": [
    {
     "name": "stdout",
     "output_type": "stream",
     "text": [
      "(53088, 12) (53088,) (22753, 12) (22753,)\n",
      "0.489 0.489\n"
     ]
    }
   ],
   "source": [
    "print(X_train.shape,y_train.shape,X_test.shape,y_test.shape)\n",
    "print(round(y_train.mean(),3),round(y_test.mean(),3))"
   ]
  },
  {
   "cell_type": "code",
   "execution_count": 15,
   "metadata": {
    "scrolled": false
   },
   "outputs": [
    {
     "data": {
      "text/plain": [
       "(0    0.510737\n",
       " 1    0.489263\n",
       " Name: target, dtype: float64,\n",
       " 0    0.510746\n",
       " 1    0.489254\n",
       " Name: target, dtype: float64)"
      ]
     },
     "execution_count": 15,
     "metadata": {},
     "output_type": "execute_result"
    }
   ],
   "source": [
    "y_train.value_counts(True),y_test.value_counts(True)"
   ]
  },
  {
   "cell_type": "code",
   "execution_count": 16,
   "metadata": {},
   "outputs": [],
   "source": [
    "from sklearn.preprocessing import MinMaxScaler\n",
    "from sklearn.preprocessing import StandardScaler\n",
    "\n",
    "# scaler = MinMaxScaler()\n",
    "scaler = StandardScaler()\n",
    "X_train = scaler.fit_transform(X_train)\n",
    "X_test = scaler.transform(X_test)"
   ]
  },
  {
   "cell_type": "markdown",
   "metadata": {},
   "source": [
    "# Logistic Regression"
   ]
  },
  {
   "cell_type": "code",
   "execution_count": 17,
   "metadata": {},
   "outputs": [],
   "source": [
    "from sklearn.linear_model import LogisticRegression\n",
    "from sklearn.linear_model import LogisticRegressionCV\n",
    "from sklearn.metrics import confusion_matrix, accuracy_score, roc_auc_score,precision_score\n",
    "from sklearn.model_selection import cross_val_score\n",
    "from sklearn.model_selection import GridSearchCV\n",
    "\n"
   ]
  },
  {
   "cell_type": "code",
   "execution_count": 18,
   "metadata": {},
   "outputs": [
    {
     "name": "stdout",
     "output_type": "stream",
     "text": [
      "0.5234137835678051 {'C': 0.1, 'penalty': 'l1', 'solver': 'liblinear'}\n",
      "cross Validation score: 0.523 [0.53, 0.523, 0.526, 0.519, 0.519]\n",
      "Prec: 0.51 Acc: 0.517\n"
     ]
    },
    {
     "data": {
      "text/html": [
       "<div>\n",
       "<style scoped>\n",
       "    .dataframe tbody tr th:only-of-type {\n",
       "        vertical-align: middle;\n",
       "    }\n",
       "\n",
       "    .dataframe tbody tr th {\n",
       "        vertical-align: top;\n",
       "    }\n",
       "\n",
       "    .dataframe thead th {\n",
       "        text-align: right;\n",
       "    }\n",
       "</style>\n",
       "<table border=\"1\" class=\"dataframe\">\n",
       "  <thead>\n",
       "    <tr style=\"text-align: right;\">\n",
       "      <th></th>\n",
       "      <th>feature</th>\n",
       "      <th>importance</th>\n",
       "    </tr>\n",
       "  </thead>\n",
       "  <tbody>\n",
       "    <tr>\n",
       "      <th>0</th>\n",
       "      <td>current_goals</td>\n",
       "      <td>0.110476</td>\n",
       "    </tr>\n",
       "    <tr>\n",
       "      <th>4</th>\n",
       "      <td>minute_bin_10</td>\n",
       "      <td>0.099635</td>\n",
       "    </tr>\n",
       "    <tr>\n",
       "      <th>3</th>\n",
       "      <td>eff_line</td>\n",
       "      <td>0.062659</td>\n",
       "    </tr>\n",
       "    <tr>\n",
       "      <th>10</th>\n",
       "      <td>minute_bin_70</td>\n",
       "      <td>0.058234</td>\n",
       "    </tr>\n",
       "    <tr>\n",
       "      <th>11</th>\n",
       "      <td>minute_bin_80</td>\n",
       "      <td>0.054113</td>\n",
       "    </tr>\n",
       "    <tr>\n",
       "      <th>5</th>\n",
       "      <td>minute_bin_20</td>\n",
       "      <td>0.046918</td>\n",
       "    </tr>\n",
       "    <tr>\n",
       "      <th>8</th>\n",
       "      <td>minute_bin_50</td>\n",
       "      <td>0.045808</td>\n",
       "    </tr>\n",
       "    <tr>\n",
       "      <th>1</th>\n",
       "      <td>shots</td>\n",
       "      <td>0.042743</td>\n",
       "    </tr>\n",
       "    <tr>\n",
       "      <th>9</th>\n",
       "      <td>minute_bin_60</td>\n",
       "      <td>0.041769</td>\n",
       "    </tr>\n",
       "    <tr>\n",
       "      <th>2</th>\n",
       "      <td>da_perc</td>\n",
       "      <td>0.007583</td>\n",
       "    </tr>\n",
       "    <tr>\n",
       "      <th>7</th>\n",
       "      <td>minute_bin_40</td>\n",
       "      <td>0.001627</td>\n",
       "    </tr>\n",
       "    <tr>\n",
       "      <th>6</th>\n",
       "      <td>minute_bin_30</td>\n",
       "      <td>0.000000</td>\n",
       "    </tr>\n",
       "  </tbody>\n",
       "</table>\n",
       "</div>"
      ],
      "text/plain": [
       "          feature  importance\n",
       "0   current_goals    0.110476\n",
       "4   minute_bin_10    0.099635\n",
       "3        eff_line    0.062659\n",
       "10  minute_bin_70    0.058234\n",
       "11  minute_bin_80    0.054113\n",
       "5   minute_bin_20    0.046918\n",
       "8   minute_bin_50    0.045808\n",
       "1           shots    0.042743\n",
       "9   minute_bin_60    0.041769\n",
       "2         da_perc    0.007583\n",
       "7   minute_bin_40    0.001627\n",
       "6   minute_bin_30    0.000000"
      ]
     },
     "execution_count": 18,
     "metadata": {},
     "output_type": "execute_result"
    }
   ],
   "source": [
    "parameters = {\n",
    "    'penalty' : ['l1','l2'], \n",
    "    'C'       : [1,1e-01,1e-02,1e-03],\n",
    "    'solver'  : ['newton-cg', 'lbfgs', 'liblinear','saga'],\n",
    "}\n",
    "\n",
    "logreg = LogisticRegression(random_state=42)\n",
    "lr = GridSearchCV(logreg,                    # model\n",
    "                   param_grid = parameters,   # hyperparameters\n",
    "                   scoring='accuracy',        # metric for scoring\n",
    "                   cv=5\n",
    "                   )                   \n",
    "lr.fit(X_train,y_train)\n",
    "\n",
    "print(lr.best_score_, lr.best_params_)\n",
    "best_lr = lr.best_estimator_.fit(X_train,y_train)\n",
    "y_pred = best_lr.predict(X_test)\n",
    "\n",
    "performance_scores(best_lr,y_test, y_pred)\n",
    "\n",
    "coef_df = pd.DataFrame(df.drop('target',1).columns,columns=['feature'])\n",
    "coef_df['importance'] = abs(best_lr.coef_).squeeze().tolist()\n",
    "coef_df.sort_values('importance',ascending=False)"
   ]
  },
  {
   "cell_type": "markdown",
   "metadata": {},
   "source": [
    "# KNN"
   ]
  },
  {
   "cell_type": "code",
   "execution_count": 19,
   "metadata": {},
   "outputs": [
    {
     "name": "stdout",
     "output_type": "stream",
     "text": [
      "K_neighbours: 1 Weight: uniform\n",
      "cross Validation score: 0.502 [0.504, 0.504, 0.508, 0.499, 0.496]\n",
      "Prec: 0.491 Acc: 0.501\n",
      "K_neighbours: 25 Weight: uniform\n",
      "cross Validation score: 0.507 [0.508, 0.503, 0.51, 0.504, 0.509]\n",
      "Prec: 0.492 Acc: 0.503\n",
      "K_neighbours: 50 Weight: uniform\n",
      "cross Validation score: 0.515 [0.522, 0.514, 0.52, 0.508, 0.509]\n",
      "Prec: 0.497 Acc: 0.508\n",
      "K_neighbours: 100 Weight: uniform\n",
      "cross Validation score: 0.515 [0.521, 0.516, 0.518, 0.508, 0.511]\n",
      "Prec: 0.498 Acc: 0.51\n",
      "K_neighbours: 1 Weight: distance\n",
      "cross Validation score: 0.502 [0.504, 0.504, 0.508, 0.499, 0.496]\n",
      "Prec: 0.491 Acc: 0.501\n",
      "K_neighbours: 25 Weight: distance\n",
      "cross Validation score: 0.507 [0.513, 0.501, 0.517, 0.501, 0.501]\n",
      "Prec: 0.485 Acc: 0.497\n",
      "K_neighbours: 50 Weight: distance\n",
      "cross Validation score: 0.511 [0.517, 0.506, 0.525, 0.505, 0.503]\n",
      "Prec: 0.492 Acc: 0.504\n",
      "K_neighbours: 100 Weight: distance\n",
      "cross Validation score: 0.511 [0.519, 0.507, 0.524, 0.504, 0.501]\n",
      "Prec: 0.489 Acc: 0.501\n"
     ]
    }
   ],
   "source": [
    "from sklearn.neighbors import KNeighborsClassifier\n",
    "for weights in ['uniform','distance']:\n",
    "    for k in [1,25,50,100]:\n",
    "\n",
    "        knn = KNeighborsClassifier(n_neighbors=k, weights=weights)\n",
    "        knn = knn.fit(X_train, y_train)\n",
    "\n",
    "        y_pred = knn.predict(X_test)\n",
    "        prec_score = round(precision_score(y_test, y_pred), 2)\n",
    "        print('K_neighbours:',k,'Weight:',weights)\n",
    "        performance_scores(knn,y_test, y_pred)\n"
   ]
  },
  {
   "cell_type": "markdown",
   "metadata": {},
   "source": [
    "# SGDClassifier"
   ]
  },
  {
   "cell_type": "code",
   "execution_count": 20,
   "metadata": {
    "scrolled": true
   },
   "outputs": [
    {
     "name": "stdout",
     "output_type": "stream",
     "text": [
      "Loss Type: log Alpha 0.1\n",
      "cross Validation score: 0.521 [0.53, 0.521, 0.524, 0.518, 0.514]\n",
      "Prec: 0.509 Acc: 0.516\n",
      "Loss Type: log Alpha 0.01\n",
      "cross Validation score: 0.523 [0.526, 0.525, 0.525, 0.52, 0.517]\n",
      "Prec: 0.502 Acc: 0.513\n",
      "Loss Type: modified_huber Alpha 0.1\n",
      "cross Validation score: 0.523 [0.525, 0.525, 0.526, 0.52, 0.52]\n",
      "Prec: 0.503 Acc: 0.514\n",
      "Loss Type: modified_huber Alpha 0.01\n",
      "cross Validation score: 0.52 [0.519, 0.524, 0.519, 0.528, 0.513]\n",
      "Prec: 0.503 Acc: 0.513\n"
     ]
    }
   ],
   "source": [
    "from sklearn.linear_model import SGDClassifier\n",
    "\n",
    "alphas = [1e-01,1e-02]\n",
    "for loss_type in ['log','modified_huber']:\n",
    "    for alpha in alphas:\n",
    "        sgd = SGDClassifier(loss=loss_type,alpha=alpha,random_state=42)\n",
    "        sgd = sgd.fit(X_train, y_train)\n",
    "\n",
    "        y_pred = sgd.predict(X_test)\n",
    "        prec_score = round(precision_score(y_test, y_pred), 2)\n",
    "        print('Loss Type:',loss_type,'Alpha',alpha)\n",
    "\n",
    "        performance_scores(sgd,y_test, y_pred)\n"
   ]
  },
  {
   "cell_type": "markdown",
   "metadata": {},
   "source": [
    "# Decision Tree Classifier"
   ]
  },
  {
   "cell_type": "code",
   "execution_count": 21,
   "metadata": {},
   "outputs": [],
   "source": [
    "from sklearn.model_selection import GridSearchCV\n",
    "from sklearn.tree import DecisionTreeClassifier\n",
    "\n",
    "dt = DecisionTreeClassifier(random_state=42)\n",
    "\n",
    "\n",
    "\n",
    "param_grid = {'criterion' : [\"gini\", \"entropy\"],\n",
    "              'max_depth': [1,2,3,4,5],\n",
    "              'max_features': [2,5,10,20,30]}\n",
    "\n",
    "best_dt = GridSearchCV(dt,\n",
    "                  param_grid=param_grid,\n",
    "                  scoring='precision',\n",
    "#                   n_jobs=-1,\n",
    "                  cv=5)\n",
    "\n",
    "best_dt = best_dt.fit(X_train, y_train)\n"
   ]
  },
  {
   "cell_type": "code",
   "execution_count": 22,
   "metadata": {
    "scrolled": false
   },
   "outputs": [
    {
     "name": "stdout",
     "output_type": "stream",
     "text": [
      "0.5223137216565952 {'criterion': 'gini', 'max_depth': 3, 'max_features': 5}\n",
      "cross Validation score: 0.522 [0.53, 0.524, 0.524, 0.519, 0.515]\n",
      "Prec: 0.506 Acc: 0.514\n"
     ]
    }
   ],
   "source": [
    "print(best_dt.best_score_, best_dt.best_params_)\n",
    "\n",
    "best_dt1 = best_dt.best_estimator_.fit(X_train,y_train)\n",
    "y_pred = best_dt1.predict(X_test)\n",
    "performance_scores(best_dt1,y_test, y_pred)\n"
   ]
  },
  {
   "cell_type": "markdown",
   "metadata": {},
   "source": [
    "# Random Forest Classifier"
   ]
  },
  {
   "cell_type": "code",
   "execution_count": 23,
   "metadata": {
    "scrolled": true
   },
   "outputs": [
    {
     "name": "stdout",
     "output_type": "stream",
     "text": [
      "N_estimators: 200\n",
      "cross Validation score: 0.509 [0.516, 0.509, 0.52, 0.5, 0.502]\n",
      "Prec: 0.49 Acc: 0.502\n",
      "N_estimators: 300\n",
      "cross Validation score: 0.509 [0.515, 0.508, 0.52, 0.5, 0.502]\n",
      "Prec: 0.492 Acc: 0.504\n",
      "N_estimators: 400\n",
      "cross Validation score: 0.509 [0.515, 0.507, 0.521, 0.501, 0.502]\n",
      "Prec: 0.491 Acc: 0.503\n"
     ]
    }
   ],
   "source": [
    "from sklearn.ensemble import RandomForestClassifier\n",
    "RF = RandomForestClassifier(oob_score=True, \n",
    "                            random_state=42, \n",
    "                            warm_start=True,\n",
    "                            n_jobs=-1)\n",
    "\n",
    "for n_trees in [200,300,400]:\n",
    "    \n",
    "    RF.set_params(n_estimators=n_trees)\n",
    "\n",
    "    RF.fit(X_train, y_train)\n",
    "    \n",
    "    y_pred = RF.predict(X_test)\n",
    "    prec_score = round(precision_score(y_test, y_pred), 2)\n",
    "    print('N_estimators:',n_trees)\n",
    "    performance_scores(RF,y_test, y_pred)\n"
   ]
  },
  {
   "cell_type": "markdown",
   "metadata": {},
   "source": [
    "# Extra Trees Classifier"
   ]
  },
  {
   "cell_type": "code",
   "execution_count": 24,
   "metadata": {
    "scrolled": true
   },
   "outputs": [
    {
     "name": "stdout",
     "output_type": "stream",
     "text": [
      "N_estimators: 5\n",
      "cross Validation score: 0.51 [0.517, 0.508, 0.522, 0.504, 0.502]\n",
      "Prec: 0.491 Acc: 0.503\n",
      "N_estimators: 50\n",
      "cross Validation score: 0.511 [0.516, 0.507, 0.524, 0.504, 0.502]\n",
      "Prec: 0.491 Acc: 0.503\n",
      "N_estimators: 100\n",
      "cross Validation score: 0.511 [0.516, 0.508, 0.524, 0.504, 0.502]\n",
      "Prec: 0.491 Acc: 0.503\n"
     ]
    }
   ],
   "source": [
    "from sklearn.ensemble import ExtraTreesClassifier\n",
    "ET = ExtraTreesClassifier(\n",
    "#                             oob_score=True, \n",
    "                            random_state=42, \n",
    "                            warm_start=True,\n",
    "#                             n_jobs=-1\n",
    "                           )\n",
    "\n",
    "for n_trees in [5,50,100]:\n",
    "    \n",
    "    ET.set_params(n_estimators=n_trees)\n",
    "\n",
    "    ET.fit(X_train, y_train)\n",
    "    \n",
    "    y_pred = ET.predict(X_test)\n",
    "    prec_score = round(precision_score(y_test, y_pred), 2)\n",
    "    print('N_estimators:',n_trees)\n",
    "\n",
    "    performance_scores(ET,y_test, y_pred)\n"
   ]
  },
  {
   "cell_type": "markdown",
   "metadata": {},
   "source": [
    "# Gradient Boosting Classifier"
   ]
  },
  {
   "cell_type": "code",
   "execution_count": 25,
   "metadata": {},
   "outputs": [
    {
     "name": "stdout",
     "output_type": "stream",
     "text": [
      "N_estimators: 5\n",
      "cross Validation score: 0.518 [0.52, 0.518, 0.52, 0.514, 0.517]\n",
      "Prec: 0.504 Acc: 0.513\n",
      "N_estimators: 50\n",
      "cross Validation score: 0.521 [0.526, 0.519, 0.527, 0.518, 0.515]\n",
      "Prec: 0.507 Acc: 0.516\n",
      "N_estimators: 100\n",
      "cross Validation score: 0.521 [0.526, 0.522, 0.523, 0.519, 0.515]\n",
      "Prec: 0.513 Acc: 0.52\n"
     ]
    }
   ],
   "source": [
    "from sklearn.ensemble import GradientBoostingClassifier\n",
    "\n",
    "tree_list = [5,50,100]\n",
    "for n_trees in tree_list:\n",
    "    \n",
    "    GBC = GradientBoostingClassifier(max_features = 10, \n",
    "                    n_estimators=n_trees, random_state=42)\n",
    "\n",
    "    GBC.fit(X_train, y_train)\n",
    "    y_pred = GBC.predict(X_test)\n",
    "    print('N_estimators:',n_trees)\n",
    "\n",
    "    performance_scores(GBC,y_test, y_pred)\n"
   ]
  },
  {
   "cell_type": "code",
   "execution_count": 26,
   "metadata": {},
   "outputs": [
    {
     "name": "stdout",
     "output_type": "stream",
     "text": [
      "0.5181099534596944 {'learning_rate': 10, 'max_features': 5, 'subsample': 1.0}\n",
      "cross Validation score: 0.507 [0.494, 0.513, 0.514, 0.511, 0.504]\n",
      "Prec: 0.496 Acc: 0.506\n"
     ]
    }
   ],
   "source": [
    "from sklearn.model_selection import GridSearchCV\n",
    "\n",
    "# The parameters to be fit\n",
    "param_grid = {\n",
    "    'learning_rate': [20, 10, 5, 3, 1, 0.1, ],\n",
    "              'subsample': [2, 1.0, 0.5, 0.25],\n",
    "              'max_features': [3, 4, 5, 10]\n",
    "}\n",
    "\n",
    "# The grid search object\n",
    "GV_GBC = GridSearchCV(GradientBoostingClassifier(n_estimators = 100,random_state=42), \n",
    "                      param_grid=param_grid, \n",
    "                      scoring='precision',\n",
    "                      n_jobs=-1)\n",
    "\n",
    "# Do the grid search\n",
    "GV_GBC = GV_GBC.fit(X_train, y_train)\n",
    "\n",
    "print(GV_GBC.best_score_, GV_GBC.best_params_)\n",
    "\n",
    "GV_GBC = GV_GBC.best_estimator_.fit(X_train,y_train)\n",
    "y_pred = GV_GBC.predict(X_test)\n",
    "\n",
    "performance_scores(GV_GBC,y_test, y_pred)\n"
   ]
  },
  {
   "cell_type": "markdown",
   "metadata": {},
   "source": [
    "# AdaBoost Classifier"
   ]
  },
  {
   "cell_type": "code",
   "execution_count": 27,
   "metadata": {},
   "outputs": [
    {
     "name": "stdout",
     "output_type": "stream",
     "text": [
      "0.5155986894703991 {'learning_rate': 0.1, 'n_estimators': 50}\n",
      "cross Validation score: 0.523 [0.532, 0.523, 0.527, 0.519, 0.514]\n",
      "Prec: 0.503 Acc: 0.514\n"
     ]
    }
   ],
   "source": [
    "from sklearn.ensemble import AdaBoostClassifier\n",
    "\n",
    "ABC = AdaBoostClassifier()\n",
    "\n",
    "param_grid = {'n_estimators': [10,30,50,100],\n",
    "              'learning_rate': [5,1,0.1, 0.01, 0.001]}\n",
    "\n",
    "GV_ABC = GridSearchCV(ABC,\n",
    "                      param_grid=param_grid, \n",
    "                      scoring='precision',\n",
    "                      n_jobs=-1)\n",
    "\n",
    "GV_ABC = GV_ABC.fit(X_train, y_train)\n",
    "\n",
    "print(GV_ABC.best_score_, GV_ABC.best_params_)\n",
    "\n",
    "GV_ABC = GV_ABC.best_estimator_.fit(X_train,y_train)\n",
    "y_pred = GV_ABC.predict(X_test)\n",
    "\n",
    "performance_scores(GV_ABC,y_test, y_pred)"
   ]
  },
  {
   "cell_type": "code",
   "execution_count": 28,
   "metadata": {},
   "outputs": [],
   "source": [
    "df = (pd.DataFrame(model_results).sort_values('Acc',ascending=False)\n",
    "      .reset_index().iloc[:,1:].head(30))\n"
   ]
  },
  {
   "cell_type": "code",
   "execution_count": 29,
   "metadata": {},
   "outputs": [
    {
     "data": {
      "text/html": [
       "<div>\n",
       "<style scoped>\n",
       "    .dataframe tbody tr th:only-of-type {\n",
       "        vertical-align: middle;\n",
       "    }\n",
       "\n",
       "    .dataframe tbody tr th {\n",
       "        vertical-align: top;\n",
       "    }\n",
       "\n",
       "    .dataframe thead th {\n",
       "        text-align: right;\n",
       "    }\n",
       "</style>\n",
       "<table border=\"1\" class=\"dataframe\">\n",
       "  <thead>\n",
       "    <tr style=\"text-align: right;\">\n",
       "      <th></th>\n",
       "      <th>Model</th>\n",
       "      <th>Model_Details</th>\n",
       "      <th>Prec</th>\n",
       "      <th>Acc</th>\n",
       "    </tr>\n",
       "  </thead>\n",
       "  <tbody>\n",
       "    <tr>\n",
       "      <th>0</th>\n",
       "      <td>GradientBoostingClassifier</td>\n",
       "      <td>([DecisionTreeRegressor(criterion='friedman_ms...</td>\n",
       "      <td>0.513</td>\n",
       "      <td>0.520</td>\n",
       "    </tr>\n",
       "    <tr>\n",
       "      <th>1</th>\n",
       "      <td>LogisticRegression</td>\n",
       "      <td>LogisticRegression(C=0.1, penalty='l1', random...</td>\n",
       "      <td>0.510</td>\n",
       "      <td>0.517</td>\n",
       "    </tr>\n",
       "    <tr>\n",
       "      <th>2</th>\n",
       "      <td>SGDClassifier</td>\n",
       "      <td>SGDClassifier(alpha=0.1, loss='log', random_st...</td>\n",
       "      <td>0.509</td>\n",
       "      <td>0.516</td>\n",
       "    </tr>\n",
       "    <tr>\n",
       "      <th>3</th>\n",
       "      <td>DecisionTreeClassifier</td>\n",
       "      <td>DecisionTreeClassifier(max_depth=3, max_featur...</td>\n",
       "      <td>0.506</td>\n",
       "      <td>0.514</td>\n",
       "    </tr>\n",
       "    <tr>\n",
       "      <th>4</th>\n",
       "      <td>AdaBoostClassifier</td>\n",
       "      <td>(DecisionTreeClassifier(max_depth=1, random_st...</td>\n",
       "      <td>0.503</td>\n",
       "      <td>0.514</td>\n",
       "    </tr>\n",
       "    <tr>\n",
       "      <th>5</th>\n",
       "      <td>KNeighborsClassifier</td>\n",
       "      <td>KNeighborsClassifier(n_neighbors=100)</td>\n",
       "      <td>0.498</td>\n",
       "      <td>0.510</td>\n",
       "    </tr>\n",
       "  </tbody>\n",
       "</table>\n",
       "</div>"
      ],
      "text/plain": [
       "                        Model  \\\n",
       "0  GradientBoostingClassifier   \n",
       "1          LogisticRegression   \n",
       "2               SGDClassifier   \n",
       "3      DecisionTreeClassifier   \n",
       "4          AdaBoostClassifier   \n",
       "5        KNeighborsClassifier   \n",
       "\n",
       "                                       Model_Details   Prec    Acc  \n",
       "0  ([DecisionTreeRegressor(criterion='friedman_ms...  0.513  0.520  \n",
       "1  LogisticRegression(C=0.1, penalty='l1', random...  0.510  0.517  \n",
       "2  SGDClassifier(alpha=0.1, loss='log', random_st...  0.509  0.516  \n",
       "3  DecisionTreeClassifier(max_depth=3, max_featur...  0.506  0.514  \n",
       "4  (DecisionTreeClassifier(max_depth=1, random_st...  0.503  0.514  \n",
       "5              KNeighborsClassifier(n_neighbors=100)  0.498  0.510  "
      ]
     },
     "execution_count": 29,
     "metadata": {},
     "output_type": "execute_result"
    }
   ],
   "source": [
    "chosen_models = df.drop_duplicates(['Model']).reset_index().iloc[:,1:].head(6)\n",
    "chosen_models"
   ]
  },
  {
   "cell_type": "code",
   "execution_count": 30,
   "metadata": {},
   "outputs": [],
   "source": [
    "chosen_models = chosen_models['Model_Details']"
   ]
  },
  {
   "cell_type": "markdown",
   "metadata": {},
   "source": [
    "# Voting Classifier"
   ]
  },
  {
   "cell_type": "code",
   "execution_count": 31,
   "metadata": {},
   "outputs": [
    {
     "name": "stdout",
     "output_type": "stream",
     "text": [
      "\n",
      " ['est0' 'est1' 'est2']\n",
      "cross Validation score: 0.523 [0.528, 0.525, 0.523, 0.52, 0.517]\n",
      "Prec: 0.51 Acc: 0.518\n",
      "\n",
      " ['est0' 'est1' 'est3']\n",
      "cross Validation score: 0.524 [0.53, 0.525, 0.527, 0.522, 0.517]\n",
      "Prec: 0.509 Acc: 0.516\n",
      "\n",
      " ['est0' 'est1' 'est4']\n",
      "cross Validation score: 0.522 [0.53, 0.524, 0.523, 0.519, 0.515]\n",
      "Prec: 0.512 Acc: 0.52\n",
      "\n",
      " ['est0' 'est2' 'est3']\n",
      "cross Validation score: 0.525 [0.531, 0.526, 0.529, 0.524, 0.517]\n",
      "Prec: 0.505 Acc: 0.514\n",
      "\n",
      " ['est0' 'est2' 'est4']\n",
      "cross Validation score: 0.522 [0.527, 0.525, 0.525, 0.518, 0.516]\n",
      "Prec: 0.509 Acc: 0.517\n",
      "\n",
      " ['est0' 'est3' 'est4']\n",
      "cross Validation score: 0.525 [0.532, 0.526, 0.527, 0.523, 0.515]\n",
      "Prec: 0.507 Acc: 0.515\n",
      "\n",
      " ['est1' 'est2' 'est3']\n",
      "cross Validation score: 0.522 [0.53, 0.523, 0.523, 0.518, 0.514]\n",
      "Prec: 0.505 Acc: 0.513\n",
      "\n",
      " ['est1' 'est2' 'est4']\n",
      "cross Validation score: 0.523 [0.531, 0.523, 0.526, 0.519, 0.517]\n",
      "Prec: 0.509 Acc: 0.516\n",
      "\n",
      " ['est1' 'est3' 'est4']\n",
      "cross Validation score: 0.522 [0.53, 0.523, 0.523, 0.518, 0.514]\n",
      "Prec: 0.506 Acc: 0.514\n",
      "\n",
      " ['est2' 'est3' 'est4']\n",
      "cross Validation score: 0.522 [0.53, 0.524, 0.524, 0.519, 0.515]\n",
      "Prec: 0.506 Acc: 0.514\n",
      "\n",
      " ['est0' 'est1' 'est2' 'est3']\n",
      "cross Validation score: 0.525 [0.531, 0.525, 0.528, 0.523, 0.516]\n",
      "Prec: 0.508 Acc: 0.516\n",
      "\n",
      " ['est0' 'est1' 'est2' 'est4']\n",
      "cross Validation score: 0.523 [0.529, 0.526, 0.524, 0.521, 0.516]\n",
      "Prec: 0.509 Acc: 0.517\n",
      "\n",
      " ['est0' 'est1' 'est3' 'est4']\n",
      "cross Validation score: 0.524 [0.529, 0.526, 0.528, 0.523, 0.516]\n",
      "Prec: 0.508 Acc: 0.516\n",
      "\n",
      " ['est0' 'est2' 'est3' 'est4']\n",
      "cross Validation score: 0.525 [0.532, 0.527, 0.529, 0.524, 0.516]\n",
      "Prec: 0.506 Acc: 0.515\n",
      "\n",
      " ['est1' 'est2' 'est3' 'est4']\n",
      "cross Validation score: 0.522 [0.531, 0.523, 0.524, 0.517, 0.514]\n",
      "Prec: 0.505 Acc: 0.514\n",
      "\n",
      " ['est0' 'est1' 'est2' 'est3' 'est4']\n",
      "cross Validation score: 0.524 [0.531, 0.524, 0.528, 0.522, 0.516]\n",
      "Prec: 0.508 Acc: 0.516\n"
     ]
    }
   ],
   "source": [
    "import itertools\n",
    "from sklearn.ensemble import VotingClassifier\n",
    "\n",
    "max_est = range(5)\n",
    "for ind_est in range(3, len(max_est)+1):\n",
    "    for subset in itertools.combinations(max_est, ind_est):\n",
    "        estimators = []\n",
    "        for est in subset:\n",
    "            estimators.append(['est'+str(est),chosen_models[est]])\n",
    "        print('\\n',str(np.array(estimators)[:,0]))\n",
    "        VC = VotingClassifier(estimators, voting='soft')\n",
    "        VC = VC.fit(X_train, y_train)\n",
    "        y_pred = VC.predict(X_test)\n",
    "        performance_scores(VC,y_test, y_pred)\n"
   ]
  },
  {
   "cell_type": "code",
   "execution_count": 32,
   "metadata": {},
   "outputs": [],
   "source": [
    "vc_models = (pd.DataFrame(model_results).sort_values('Acc',ascending=False)\n",
    "      .reset_index().iloc[:,1:])\n"
   ]
  },
  {
   "cell_type": "code",
   "execution_count": 33,
   "metadata": {
    "scrolled": true
   },
   "outputs": [
    {
     "data": {
      "text/html": [
       "<div>\n",
       "<style scoped>\n",
       "    .dataframe tbody tr th:only-of-type {\n",
       "        vertical-align: middle;\n",
       "    }\n",
       "\n",
       "    .dataframe tbody tr th {\n",
       "        vertical-align: top;\n",
       "    }\n",
       "\n",
       "    .dataframe thead th {\n",
       "        text-align: right;\n",
       "    }\n",
       "</style>\n",
       "<table border=\"1\" class=\"dataframe\">\n",
       "  <thead>\n",
       "    <tr style=\"text-align: right;\">\n",
       "      <th></th>\n",
       "      <th>Model</th>\n",
       "      <th>Model_Details</th>\n",
       "      <th>Prec</th>\n",
       "      <th>Acc</th>\n",
       "    </tr>\n",
       "  </thead>\n",
       "  <tbody>\n",
       "    <tr>\n",
       "      <th>0</th>\n",
       "      <td>VotingClassifier</td>\n",
       "      <td>VotingClassifier(estimators=[['est0',\\n       ...</td>\n",
       "      <td>0.512</td>\n",
       "      <td>0.520</td>\n",
       "    </tr>\n",
       "    <tr>\n",
       "      <th>1</th>\n",
       "      <td>VotingClassifier</td>\n",
       "      <td>VotingClassifier(estimators=[['est0',\\n       ...</td>\n",
       "      <td>0.510</td>\n",
       "      <td>0.518</td>\n",
       "    </tr>\n",
       "    <tr>\n",
       "      <th>2</th>\n",
       "      <td>VotingClassifier</td>\n",
       "      <td>VotingClassifier(estimators=[['est0',\\n       ...</td>\n",
       "      <td>0.509</td>\n",
       "      <td>0.517</td>\n",
       "    </tr>\n",
       "    <tr>\n",
       "      <th>3</th>\n",
       "      <td>VotingClassifier</td>\n",
       "      <td>VotingClassifier(estimators=[['est0',\\n       ...</td>\n",
       "      <td>0.509</td>\n",
       "      <td>0.517</td>\n",
       "    </tr>\n",
       "    <tr>\n",
       "      <th>4</th>\n",
       "      <td>VotingClassifier</td>\n",
       "      <td>VotingClassifier(estimators=[['est0',\\n       ...</td>\n",
       "      <td>0.508</td>\n",
       "      <td>0.516</td>\n",
       "    </tr>\n",
       "  </tbody>\n",
       "</table>\n",
       "</div>"
      ],
      "text/plain": [
       "              Model                                      Model_Details   Prec  \\\n",
       "0  VotingClassifier  VotingClassifier(estimators=[['est0',\\n       ...  0.512   \n",
       "1  VotingClassifier  VotingClassifier(estimators=[['est0',\\n       ...  0.510   \n",
       "2  VotingClassifier  VotingClassifier(estimators=[['est0',\\n       ...  0.509   \n",
       "3  VotingClassifier  VotingClassifier(estimators=[['est0',\\n       ...  0.509   \n",
       "4  VotingClassifier  VotingClassifier(estimators=[['est0',\\n       ...  0.508   \n",
       "\n",
       "     Acc  \n",
       "0  0.520  \n",
       "1  0.518  \n",
       "2  0.517  \n",
       "3  0.517  \n",
       "4  0.516  "
      ]
     },
     "execution_count": 33,
     "metadata": {},
     "output_type": "execute_result"
    }
   ],
   "source": [
    "vc_models = (vc_models.loc[vc_models['Model']=='VotingClassifier']\n",
    ".reset_index().iloc[:,1:])\n",
    "vc_models.head(5)"
   ]
  },
  {
   "cell_type": "code",
   "execution_count": null,
   "metadata": {},
   "outputs": [],
   "source": []
  }
 ],
 "metadata": {
  "kernelspec": {
   "display_name": "Python 3",
   "language": "python",
   "name": "python3"
  },
  "language_info": {
   "codemirror_mode": {
    "name": "ipython",
    "version": 3
   },
   "file_extension": ".py",
   "mimetype": "text/x-python",
   "name": "python",
   "nbconvert_exporter": "python",
   "pygments_lexer": "ipython3",
   "version": "3.8.3"
  }
 },
 "nbformat": 4,
 "nbformat_minor": 4
}
